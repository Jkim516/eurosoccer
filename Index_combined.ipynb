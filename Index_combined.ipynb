{
 "cells": [
  {
   "cell_type": "code",
   "execution_count": 38,
   "metadata": {},
   "outputs": [],
   "source": [
    "from scipy import stats\n",
    "import numpy as np\n",
    "import matplotlib.pyplot as plt\n",
    "%matplotlib inline\n",
    "import seaborn as sns\n",
    "import pandas as pd\n",
    "import sqlite3\n",
    "import numpy as np\n",
    "from numpy import random\n",
    "from functools import reduce"
   ]
  },
  {
   "cell_type": "code",
   "execution_count": null,
   "metadata": {},
   "outputs": [],
   "source": [
    "#Is there a statistical difference in the average players rating per match between different leagues?\n",
    "#Is there a statistical difference in the highest average players rating league to other leagues\n",
    "#Is there a statistical difference in the avg players potential per league?\n"
   ]
  },
  {
   "cell_type": "code",
   "execution_count": 85,
   "metadata": {},
   "outputs": [],
   "source": [
    "def Cohen_d(group1, group2):\n",
    "\n",
    "    # Compute Cohen's d.\n",
    "\n",
    "    # group1: Series or NumPy array\n",
    "    # group2: Series or NumPy array\n",
    "\n",
    "    # returns a floating point number \n",
    "\n",
    "    diff = group1.mean() - group2.mean()\n",
    "\n",
    "    n1, n2 = len(group1), len(group2)\n",
    "    var1 = group1.var()\n",
    "    var2 = group2.var()\n",
    "\n",
    "    # Calculate the pooled threshold as shown earlier\n",
    "    pooled_var = (n1 * var1 + n2 * var2) / (n1 + n2)\n",
    "    \n",
    "    # Calculate Cohen's d statistic\n",
    "    d = diff / np.sqrt(pooled_var)\n",
    "    \n",
    "    return d"
   ]
  },
  {
   "cell_type": "markdown",
   "metadata": {},
   "source": [
    "# Avgerage rating of players in league"
   ]
  },
  {
   "cell_type": "code",
   "execution_count": 12,
   "metadata": {},
   "outputs": [],
   "source": [
    "rating_df = pd.read_csv('avg_player_rating.csv')\n",
    "potential_df = pd.read_csv('avg_player_potential.csv')"
   ]
  },
  {
   "cell_type": "code",
   "execution_count": 13,
   "metadata": {},
   "outputs": [],
   "source": [
    "ned_league_rating = rating_df.loc[rating_df['league']== 'Netherlands Eredivisie']\n",
    "port_league_rating = rating_df.loc[rating_df['league']== 'Portugal Liga ZON Sagres']"
   ]
  },
  {
   "cell_type": "code",
   "execution_count": null,
   "metadata": {},
   "outputs": [],
   "source": [
    "other_league_rating = rating_df.loc[rating_df['league']!= 'Netherlands Eredivisie']"
   ]
  },
  {
   "cell_type": "code",
   "execution_count": 15,
   "metadata": {},
   "outputs": [],
   "source": [
    "ned_league_rating_df = ned_league_rating['avg_player_rating']\n",
    "port_league_rating_df = port_league_rating['avg_player_rating']"
   ]
  },
  {
   "cell_type": "code",
   "execution_count": 87,
   "metadata": {
    "scrolled": true
   },
   "outputs": [
    {
     "name": "stdout",
     "output_type": "stream",
     "text": [
      "Ttest_indResult(statistic=-0.46880757273489804, pvalue=0.6392380237116921)\n",
      "effect size: 0.014930547115080054\n"
     ]
    },
    {
     "data": {
      "image/png": "[encoded data removed]",
      "text/plain": [
       "<Figure size 864x288 with 1 Axes>"
      ]
     },
     "metadata": {
      "needs_background": "light"
     },
     "output_type": "display_data"
    }
   ],
   "source": [
    "print(stats.ttest_ind(ned_league_rating_df, port_league_rating_df, equal_var=False))\n",
    "print(F\"effect size:\",Cohen_d(port_league_rating_df, ned_league_rating_df))\n",
    "fig, ax = plt.subplots(ncols=1, nrows=1, figsize=(12, 4))\n",
    "plt.hist(ned_league_rating_df, alpha=.7, label='netherand')\n",
    "plt.hist(port_league_rating_df, alpha=.7, label='portugal')\n",
    "ax.legend(['netherand', 'portugal'])\n",
    "plt.show()"
   ]
  },
  {
   "cell_type": "code",
   "execution_count": 96,
   "metadata": {},
   "outputs": [],
   "source": [
    "# There is no statistical significant difference between Average rating of players in the \n",
    "# Netherand league and Portugal league. \n",
    "# Failed to reject null hypothesis because the p-value is higher than .05\n"
   ]
  },
  {
   "cell_type": "code",
   "execution_count": 117,
   "metadata": {},
   "outputs": [
    {
     "data": {
      "image/png": "[encoded data removed]",
      "text/plain": [
       "<Figure size 864x288 with 1 Axes>"
      ]
     },
     "metadata": {
      "needs_background": "light"
     },
     "output_type": "display_data"
    }
   ],
   "source": [
    "fig, ax = plt.subplots(figsize=(12, 4))\n",
    "plt.barh(\"Ned_league\" , ned_league_rating_df.mean(), label='netherand')\n",
    "plt.barh(\"Port_league\", port_league_rating_df.mean(), label='portugal')\n",
    "plt.barh(\"Bel_league\" , bel_league_rating_df.mean(), label='belgium')\n",
    "plt.barh(\"Pol_league\" , pol_league_rating_df.mean(), label='poland')\n",
    "plt.barh(\"Scot_league\" , scot_league_rating_df.mean(), label='scotland')\n",
    "plt.barh(\"Switz_league\" , switz_league_rating_df.mean(), label='swtizland')\n",
    "ax.set_title(\"Avg players rating in the League\")\n",
    "# ax.legend(['netherand', 'portugal'])\n",
    "plt.show()\n",
    "# df.set_index('wins').plot(kind='barh', ax=axes[0])\n",
    "# axes[0].set_title('wins')\n",
    "\n",
    "# df.set_index('losses').plot(kind='barh', ax=axes[1])\n",
    "# axes[1].set_title('losses')\n",
    "\n"
   ]
  },
  {
   "cell_type": "code",
   "execution_count": 111,
   "metadata": {},
   "outputs": [
    {
     "name": "stdout",
     "output_type": "stream",
     "text": [
      "67.85464608911256\n",
      "67.90376154359285\n"
     ]
    }
   ],
   "source": [
    "print(ned_league_rating_df.mean())\n",
    "print(port_league_rating_df.mean())"
   ]
  },
  {
   "cell_type": "code",
   "execution_count": 31,
   "metadata": {},
   "outputs": [
    {
     "data": {
      "text/plain": [
       "array(['Belgium Jupiler League', 'Netherlands Eredivisie',\n",
       "       'Poland Ekstraklasa', 'Portugal Liga ZON Sagres',\n",
       "       'Scotland Premier League', 'Switzerland Super League'],\n",
       "      dtype=object)"
      ]
     },
     "execution_count": 31,
     "metadata": {},
     "output_type": "execute_result"
    }
   ],
   "source": [
    "rating_df.league.unique()"
   ]
  },
  {
   "cell_type": "code",
   "execution_count": 47,
   "metadata": {},
   "outputs": [],
   "source": [
    "bel_league_rating = rating_df.loc[rating_df['league']== 'Belgium Jupiler League']\n",
    "pol_league_rating = rating_df.loc[rating_df['league']== 'Poland Ekstraklasa']\n",
    "scot_league_rating = rating_df.loc[rating_df['league']== 'Scotland Premier League']\n",
    "switz_league_rating = rating_df.loc[rating_df['league']== 'Switzerland Super League']"
   ]
  },
  {
   "cell_type": "code",
   "execution_count": 48,
   "metadata": {},
   "outputs": [],
   "source": [
    "bel_league_rating_df = bel_league_rating['avg_player_rating']\n",
    "pol_league_rating_df  = pol_league_rating['avg_player_rating']\n",
    "scot_league_rating_df = scot_league_rating['avg_player_rating']\n",
    "switz_league_rating_df = switz_league_rating['avg_player_rating']"
   ]
  },
  {
   "cell_type": "code",
   "execution_count": 123,
   "metadata": {},
   "outputs": [
    {
     "name": "stdout",
     "output_type": "stream",
     "text": [
      "NED vs PORT\n",
      "Ttest_indResult(statistic=-0.46880757273489804, pvalue=0.6392380237116921)\n",
      "NED vs BEL\n",
      "Ttest_indResult(statistic=22.654643209170786, pvalue=7.44240341320733e-105)\n",
      "NED vs POL\n",
      "Ttest_indResult(statistic=61.94693715340812, pvalue=0.0)\n",
      "NED vs Scot\n",
      "Ttest_indResult(statistic=51.42317347956111, pvalue=0.0)\n",
      "NED vs Switz\n",
      "Ttest_indResult(statistic=50.719717374347844, pvalue=0.0)\n"
     ]
    }
   ],
   "source": [
    "print(\"NED vs PORT\")\n",
    "print(stats.ttest_ind(ned_league_rating_df, port_league_rating_df, equal_var=False))\n",
    "print(\"NED vs BEL\")\n",
    "print(stats.ttest_ind(ned_league_rating_df, bel_league_rating_df, equal_var=False))\n",
    "# print(F\"effect size:\",Cohen_d(ned_league_rating_df, bel_league_rating_df))\n",
    "print(\"NED vs POL\")\n",
    "print(stats.ttest_ind(ned_league_rating_df, pol_league_rating_df, equal_var=False))\n",
    "# print(F\"effect size:\",Cohen_d(ned_league_rating_df, pol_league_rating_df))\n",
    "print(\"NED vs Scot\")\n",
    "print(stats.ttest_ind(ned_league_rating_df, scot_league_rating_df, equal_var=False))\n",
    "# print(F\"effect size:\",Cohen_d(ned_league_rating_df, scot_league_rating_df))\n",
    "print(\"NED vs Switz\")\n",
    "print(stats.ttest_ind(ned_league_rating_df, switz_league_rating_df, equal_var=False))\n",
    "# print(F\"effect size:\",Cohen_d(ned_league_rating_df, switz_league_rating_df))"
   ]
  },
  {
   "cell_type": "code",
   "execution_count": null,
   "metadata": {},
   "outputs": [],
   "source": [
    "#An independent-samples t-test was used to check the difference of highest avg players rating in league to other leagues\n",
    "# t(2243) = 45.35, p=.0, "
   ]
  },
  {
   "cell_type": "code",
   "execution_count": 100,
   "metadata": {},
   "outputs": [
    {
     "name": "stdout",
     "output_type": "stream",
     "text": [
      "AVG players rating in Ned_league: 67.85464608911256\n",
      "AVG players rating in Port_league: 67.90376154359285\n",
      "AVG players rating in Bel_league: 65.69183660616169\n",
      "AVG players rating in Pol_league: 59.51608087443279\n",
      "AVG players rating in Scot_league: 63.43803624053617\n",
      "AVG players rating in Switz_league: 63.2336793083073\n"
     ]
    }
   ],
   "source": [
    "print(f\"AVG players rating in Ned_league:\",ned_league_rating_df.mean())\n",
    "print(f\"AVG players rating in Port_league:\",port_league_rating_df.mean())\n",
    "print(f\"AVG players rating in Bel_league:\",bel_league_rating_df.mean())\n",
    "print(f\"AVG players rating in Pol_league:\",pol_league_rating_df.mean())\n",
    "print(f\"AVG players rating in Scot_league:\",scot_league_rating_df.mean())\n",
    "print(f\"AVG players rating in Switz_league:\",switz_league_rating_df.mean())"
   ]
  },
  {
   "cell_type": "code",
   "execution_count": null,
   "metadata": {},
   "outputs": [],
   "source": []
  },
  {
   "cell_type": "markdown",
   "metadata": {},
   "source": [
    "# Players avgerage potential in each league"
   ]
  },
  {
   "cell_type": "code",
   "execution_count": 25,
   "metadata": {},
   "outputs": [],
   "source": [
    "ned_league_potential = potential_df.loc[potential_df['league']== 'Netherlands Eredivisie']\n",
    "port_league_potential = potential_df.loc[potential_df['league']== 'Portugal Liga ZON Sagres']"
   ]
  },
  {
   "cell_type": "code",
   "execution_count": 26,
   "metadata": {},
   "outputs": [],
   "source": [
    "ned_league_potential_df = ned_league_potential['avg_players_potential']\n",
    "port_league_potential_df = port_league_potential['avg_players_potential']"
   ]
  },
  {
   "cell_type": "code",
   "execution_count": 27,
   "metadata": {},
   "outputs": [
    {
     "name": "stdout",
     "output_type": "stream",
     "text": [
      "Ttest_indResult(statistic=6.375249240847763, pvalue=2.0732734438538002e-10)\n"
     ]
    },
    {
     "data": {
      "image/png": "[encoded data removed]",
      "text/plain": [
       "<Figure size 864x288 with 1 Axes>"
      ]
     },
     "metadata": {
      "needs_background": "light"
     },
     "output_type": "display_data"
    }
   ],
   "source": [
    "print(stats.ttest_ind(ned_league_potential_df, port_league_potential_df, equal_var=False))\n",
    "\n",
    "fig, ax = plt.subplots(ncols=1, nrows=1, figsize=(12, 4))\n",
    "plt.hist(ned_league_potential_df, alpha=.7, label='netherand')\n",
    "plt.hist(port_league_potential_df, alpha=.7, label='portugal')\n",
    "ax.legend(['netherand', 'portugal'])\n",
    "plt.show()"
   ]
  },
  {
   "cell_type": "code",
   "execution_count": 78,
   "metadata": {},
   "outputs": [
    {
     "data": {
      "text/plain": [
       "0.20254420486238936"
      ]
     },
     "execution_count": 78,
     "metadata": {},
     "output_type": "execute_result"
    }
   ],
   "source": [
    "# finding Effect size between Ned and Port\n",
    "Cohen_d(ned_league_potential_df, port_league_potential_df)\n",
    "# small effect"
   ]
  },
  {
   "cell_type": "code",
   "execution_count": null,
   "metadata": {},
   "outputs": [],
   "source": [
    "# we are 95% sure that the players average potential in Netherand league is \n",
    "# higher than the players in portugal league \n",
    "# we reject the null hypothesis because the p-value is less than 0.05"
   ]
  },
  {
   "cell_type": "code",
   "execution_count": 74,
   "metadata": {},
   "outputs": [
    {
     "data": {
      "text/plain": [
       "1.0366367219269001e-10"
      ]
     },
     "execution_count": 74,
     "metadata": {},
     "output_type": "execute_result"
    }
   ],
   "source": [
    "t,p = stats.ttest_ind(ned_league_potential_df, port_league_potential_df, equal_var=False)\n",
    "p/2"
   ]
  },
  {
   "cell_type": "code",
   "execution_count": 61,
   "metadata": {},
   "outputs": [],
   "source": [
    "bel_league_P_potential = potential_df.loc[potential_df['league']== 'Belgium Jupiler League']\n",
    "pol_league_P_potential = potential_df.loc[potential_df['league']== 'Poland Ekstraklasa']\n",
    "scot_league_P_potential = potential_df.loc[potential_df['league']== 'Scotland Premier League']\n",
    "switz_league_P_potential = potential_df.loc[potential_df['league']== 'Switzerland Super League']"
   ]
  },
  {
   "cell_type": "code",
   "execution_count": 63,
   "metadata": {},
   "outputs": [],
   "source": [
    "bel_league_P_potential_df = bel_league_P_potential['avg_players_potential']\n",
    "pol_league_P_potential_df  = pol_league_P_potential['avg_players_potential']\n",
    "scot_league_P_potential_df = scot_league_P_potential['avg_players_potential']\n",
    "switz_league_P_potential_df = switz_league_P_potential['avg_players_potential']"
   ]
  },
  {
   "cell_type": "code",
   "execution_count": 80,
   "metadata": {},
   "outputs": [
    {
     "name": "stdout",
     "output_type": "stream",
     "text": [
      "NED vs BEL\n",
      "Ttest_indResult(statistic=28.24840284186084, pvalue=4.4335620380137e-155)\n",
      "effect size: 0.970966565478423\n",
      "NED vs POL\n",
      "Ttest_indResult(statistic=60.031883730786305, pvalue=0.0)\n",
      "effect size: 2.7579779094016406\n",
      "NED vs Scot\n",
      "Ttest_indResult(statistic=52.800734203136734, pvalue=0.0)\n",
      "effect size: 1.647023730961226\n",
      "NED vs Switz\n",
      "Ttest_indResult(statistic=40.6784228188515, pvalue=1.0660381590878225e-287)\n",
      "effect size: 1.379983206207138\n"
     ]
    }
   ],
   "source": [
    "print(\"NED vs BEL\")\n",
    "print(stats.ttest_ind(ned_league_potential_df, bel_league_P_potential_df, equal_var=False))\n",
    "print(f\"effect size: {Cohen_d(ned_league_potential_df, bel_league_P_potential_df)}\")\n",
    "print(\"NED vs POL\")\n",
    "print(stats.ttest_ind(ned_league_potential_df, pol_league_P_potential_df, equal_var=False))\n",
    "print(f\"effect size: {Cohen_d(ned_league_potential_df, pol_league_P_potential_df)}\")\n",
    "print(\"NED vs Scot\")\n",
    "print(stats.ttest_ind(ned_league_potential_df, scot_league_P_potential_df, equal_var=False))\n",
    "print(f\"effect size: {Cohen_d(ned_league_potential_df, scot_league_P_potential_df)}\")\n",
    "print(\"NED vs Switz\")\n",
    "print(stats.ttest_ind(ned_league_potential_df, switz_league_P_potential_df, equal_var=False))\n",
    "print(f\"effect size: {Cohen_d(ned_league_potential_df, switz_league_P_potential_df)}\")"
   ]
  },
  {
   "cell_type": "code",
   "execution_count": 118,
   "metadata": {},
   "outputs": [
    {
     "data": {
      "text/plain": [
       "array(['Belgium Jupiler League', 'Netherlands Eredivisie',\n",
       "       'Poland Ekstraklasa', 'Portugal Liga ZON Sagres',\n",
       "       'Scotland Premier League', 'Switzerland Super League'],\n",
       "      dtype=object)"
      ]
     },
     "execution_count": 118,
     "metadata": {},
     "output_type": "execute_result"
    }
   ],
   "source": [
    "rating_df['league'].unique()"
   ]
  },
  {
   "cell_type": "code",
   "execution_count": 120,
   "metadata": {},
   "outputs": [
    {
     "name": "stdout",
     "output_type": "stream",
     "text": [
      "72.45938103527938\n",
      "71.73388100123572\n",
      "69.38321738360528\n",
      "62.362527424933155\n",
      "67.8478014842775\n",
      "68.54370554131137\n"
     ]
    }
   ],
   "source": [
    "print(ned_league_potential_df.mean())\n",
    "print(port_league_potential_df.mean())\n",
    "print(bel_league_P_potential_df.mean())\n",
    "print(pol_league_P_potential_df.mean())\n",
    "print(scot_league_P_potential_df.mean())\n",
    "print(switz_league_P_potential_df.mean())"
   ]
  },
  {
   "cell_type": "code",
   "execution_count": 121,
   "metadata": {},
   "outputs": [
    {
     "name": "stdout",
     "output_type": "stream",
     "text": [
      "(2243,)\n",
      "(1944,)\n",
      "(1519,)\n",
      "(994,)\n",
      "(1824,)\n",
      "(1318,)\n"
     ]
    }
   ],
   "source": [
    "print(ned_league_potential_df.shape)\n",
    "print(port_league_potential_df.shape)\n",
    "print(bel_league_P_potential_df.shape)\n",
    "print(pol_league_P_potential_df.shape)\n",
    "print(scot_league_P_potential_df.shape)\n",
    "print(switz_league_P_potential_df.shape)"
   ]
  },
  {
   "cell_type": "code",
   "execution_count": 122,
   "metadata": {},
   "outputs": [
    {
     "data": {
      "image/png": "[encoded data removed]",
      "text/plain": [
       "<Figure size 864x288 with 1 Axes>"
      ]
     },
     "metadata": {
      "needs_background": "light"
     },
     "output_type": "display_data"
    }
   ],
   "source": [
    "fig, ax = plt.subplots(figsize=(12, 4))\n",
    "plt.barh(\"Ned_league\" , ned_league_potential_df.mean(), label='netherand')\n",
    "plt.barh(\"Port_league\", port_league_potential_df.mean(), label='portugal')\n",
    "plt.barh(\"Bel_league\" , bel_league_P_potential_df.mean(), label='belgium')\n",
    "plt.barh(\"Pol_league\" , pol_league_P_potential_df.mean(), label='poland')\n",
    "plt.barh(\"Scot_league\" , scot_league_P_potential_df.mean(), label='scotland')\n",
    "plt.barh(\"Switz_league\" , switz_league_P_potential_df.mean(), label='swtizland')\n",
    "ax.set_title(\"Avg players potential in the League\")\n",
    "# ax.legend(['netherand', 'portugal'])\n",
    "plt.show()"
   ]
  },
  {
   "cell_type": "code",
   "execution_count": 140,
   "metadata": {},
   "outputs": [
    {
     "name": "stdout",
     "output_type": "stream",
     "text": [
      "Ttest_indResult(statistic=-20.821646563239685, pvalue=4.2829153795218986e-91)\n"
     ]
    }
   ],
   "source": [
    "print(stats.ttest_ind(ned_league_potential_df, potential_df.avg_players_potential, equal_var=False))"
   ]
  },
  {
   "cell_type": "code",
   "execution_count": 141,
   "metadata": {},
   "outputs": [
    {
     "data": {
      "text/plain": [
       "73.9165238275123"
      ]
     },
     "execution_count": 141,
     "metadata": {},
     "output_type": "execute_result"
    }
   ],
   "source": [
    "potential_df.avg_players_potential.mean()"
   ]
  },
  {
   "cell_type": "code",
   "execution_count": 142,
   "metadata": {},
   "outputs": [
    {
     "data": {
      "text/plain": [
       "72.45938103527938"
      ]
     },
     "execution_count": 142,
     "metadata": {},
     "output_type": "execute_result"
    }
   ],
   "source": [
    "ned_league_potential_df.mean()"
   ]
  },
  {
   "cell_type": "code",
   "execution_count": null,
   "metadata": {},
   "outputs": [],
   "source": []
  }
 ],
 "metadata": {
  "kernelspec": {
   "display_name": "Python [conda env:learn-env] *",
   "language": "python",
   "name": "conda-env-learn-env-py"
  },
  "language_info": {
   "codemirror_mode": {
    "name": "ipython",
    "version": 3
   },
   "file_extension": ".py",
   "mimetype": "text/x-python",
   "name": "python",
   "nbconvert_exporter": "python",
   "pygments_lexer": "ipython3",
   "version": "3.7.0"
  }
 },
 "nbformat": 4,
 "nbformat_minor": 2
}
