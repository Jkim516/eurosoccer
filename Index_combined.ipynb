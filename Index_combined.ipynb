{
 "cells": [
  {
   "cell_type": "code",
   "execution_count": 38,
   "metadata": {},
   "outputs": [],
   "source": [
    "from scipy import stats\n",
    "import numpy as np\n",
    "import matplotlib.pyplot as plt\n",
    "%matplotlib inline\n",
    "import seaborn as sns\n",
    "import pandas as pd\n",
    "import sqlite3\n",
    "import numpy as np\n",
    "from numpy import random\n",
    "from functools import reduce"
   ]
  },
  {
   "cell_type": "code",
   "execution_count": null,
   "metadata": {},
   "outputs": [],
   "source": [
    "#Is there a statistical difference in the number of scoreless matches between different leagues per season?\n",
    "#Is there a statistical difference in the avg players potential per league."
   ]
  },
  {
   "cell_type": "code",
   "execution_count": 12,
   "metadata": {},
   "outputs": [],
   "source": [
    "rating_df = pd.read_csv('avg_player_rating.csv')\n",
    "potential_df = pd.read_csv('avg_player_potential.csv')"
   ]
  },
  {
   "cell_type": "code",
   "execution_count": 13,
   "metadata": {},
   "outputs": [],
   "source": [
    "ned_league_rating = rating_df.loc[rating_df['league']== 'Netherlands Eredivisie']\n",
    "port_league_rating = rating_df.loc[rating_df['league']== 'Portugal Liga ZON Sagres']"
   ]
  },
  {
   "cell_type": "code",
   "execution_count": 15,
   "metadata": {},
   "outputs": [],
   "source": [
    "ned_league_rating_df = ned_league_rating['avg_player_rating']\n",
    "port_league_rating_df = port_league_rating['avg_player_rating']"
   ]
  },
  {
   "cell_type": "code",
   "execution_count": 34,
   "metadata": {},
   "outputs": [
    {
     "name": "stdout",
     "output_type": "stream",
     "text": [
      "Ttest_indResult(statistic=-0.46880757273489804, pvalue=0.6392380237116921)\n"
     ]
    },
    {
     "data": {
      "image/png": "[encoded data removed]",
      "text/plain": [
       "<Figure size 864x288 with 1 Axes>"
      ]
     },
     "metadata": {
      "needs_background": "light"
     },
     "output_type": "display_data"
    }
   ],
   "source": [
    "print(stats.ttest_ind(ned_league_rating_df, port_league_rating_df, equal_var=False))\n",
    "\n",
    "fig, ax = plt.subplots(ncols=1, nrows=1, figsize=(12, 4))\n",
    "plt.hist(ned_league_rating_df, alpha=.7, label='netherand')\n",
    "plt.hist(port_league_rating_df, alpha=.7, label='portugal')\n",
    "ax.legend(['netherand', 'portugal'])\n",
    "plt.show()"
   ]
  },
  {
   "cell_type": "code",
   "execution_count": 31,
   "metadata": {},
   "outputs": [
    {
     "data": {
      "text/plain": [
       "array(['Belgium Jupiler League', 'Netherlands Eredivisie',\n",
       "       'Poland Ekstraklasa', 'Portugal Liga ZON Sagres',\n",
       "       'Scotland Premier League', 'Switzerland Super League'],\n",
       "      dtype=object)"
      ]
     },
     "execution_count": 31,
     "metadata": {},
     "output_type": "execute_result"
    }
   ],
   "source": [
    "rating_df.league.unique()"
   ]
  },
  {
   "cell_type": "code",
   "execution_count": 47,
   "metadata": {},
   "outputs": [],
   "source": [
    "bel_league_rating = rating_df.loc[rating_df['league']== 'Belgium Jupiler League']\n",
    "pol_league_rating = rating_df.loc[rating_df['league']== 'Poland Ekstraklasa']\n",
    "scot_league_rating = rating_df.loc[rating_df['league']== 'Scotland Premier League']\n",
    "switz_league_rating = rating_df.loc[rating_df['league']== 'Switzerland Super League']"
   ]
  },
  {
   "cell_type": "code",
   "execution_count": 48,
   "metadata": {},
   "outputs": [],
   "source": [
    "bel_league_rating_df = bel_league_rating['avg_player_rating']\n",
    "pol_league_rating_df  = pol_league_rating['avg_player_rating']\n",
    "scot_league_rating_df = scot_league_rating['avg_player_rating']\n",
    "switz_league_rating_df = switz_league_rating['avg_player_rating']"
   ]
  },
  {
   "cell_type": "code",
   "execution_count": 50,
   "metadata": {},
   "outputs": [
    {
     "name": "stdout",
     "output_type": "stream",
     "text": [
      "NED vs BEL\n",
      "Ttest_indResult(statistic=22.654643209170786, pvalue=7.44240341320733e-105)\n",
      "NED vs POL\n",
      "Ttest_indResult(statistic=61.94693715340812, pvalue=0.0)\n",
      "NED vs Scot\n",
      "Ttest_indResult(statistic=51.42317347956111, pvalue=0.0)\n",
      "NED vs Switz\n",
      "Ttest_indResult(statistic=50.719717374347844, pvalue=0.0)\n"
     ]
    }
   ],
   "source": [
    "print(\"NED vs BEL\")\n",
    "print(stats.ttest_ind(ned_league_rating_df, bel_league_rating_df, equal_var=False))\n",
    "print(\"NED vs POL\")\n",
    "print(stats.ttest_ind(ned_league_rating_df, pol_league_rating_df, equal_var=False))\n",
    "print(\"NED vs Scot\")\n",
    "print(stats.ttest_ind(ned_league_rating_df, scot_league_rating_df, equal_var=False))\n",
    "print(\"NED vs Switz\")\n",
    "print(stats.ttest_ind(ned_league_rating_df, switz_league_rating_df, equal_var=False))"
   ]
  },
  {
   "cell_type": "code",
   "execution_count": 57,
   "metadata": {},
   "outputs": [
    {
     "data": {
      "image/png": "[encoded data removed]",
      "text/plain": [
       "<Figure size 864x288 with 1 Axes>"
      ]
     },
     "metadata": {
      "needs_background": "light"
     },
     "output_type": "display_data"
    }
   ],
   "source": [
    "fig, ax = plt.subplots(ncols=1, nrows=1, figsize=(12, 4))\n",
    "plt.hist(ned_league_rating_df, alpha=.7, label='netherand')\n",
    "plt.hist(pol_league_rating_df, alpha=.7, label='pol')\n",
    "ax.legend(['netherand', 'pol'])\n",
    "plt.show()"
   ]
  },
  {
   "cell_type": "code",
   "execution_count": null,
   "metadata": {},
   "outputs": [],
   "source": []
  },
  {
   "cell_type": "code",
   "execution_count": null,
   "metadata": {},
   "outputs": [],
   "source": []
  },
  {
   "cell_type": "code",
   "execution_count": 25,
   "metadata": {},
   "outputs": [],
   "source": [
    "ned_league_potential = potential_df.loc[potential_df['league']== 'Netherlands Eredivisie']\n",
    "port_league_potential = potential_df.loc[potential_df['league']== 'Portugal Liga ZON Sagres']"
   ]
  },
  {
   "cell_type": "code",
   "execution_count": 26,
   "metadata": {},
   "outputs": [],
   "source": [
    "ned_league_potential_df = ned_league_potential['avg_players_potential']\n",
    "port_league_potential_df = port_league_potential['avg_players_potential']"
   ]
  },
  {
   "cell_type": "code",
   "execution_count": 27,
   "metadata": {},
   "outputs": [
    {
     "name": "stdout",
     "output_type": "stream",
     "text": [
      "Ttest_indResult(statistic=6.375249240847763, pvalue=2.0732734438538002e-10)\n"
     ]
    },
    {
     "data": {
      "image/png": "[encoded data removed]",
      "text/plain": [
       "<Figure size 864x288 with 1 Axes>"
      ]
     },
     "metadata": {
      "needs_background": "light"
     },
     "output_type": "display_data"
    }
   ],
   "source": [
    "print(stats.ttest_ind(ned_league_potential_df, port_league_potential_df, equal_var=False))\n",
    "\n",
    "fig, ax = plt.subplots(ncols=1, nrows=1, figsize=(12, 4))\n",
    "plt.hist(ned_league_potential_df, alpha=.7, label='netherand')\n",
    "plt.hist(port_league_potential_df, alpha=.7, label='portugal')\n",
    "ax.legend(['netherand', 'portugal'])\n",
    "plt.show()"
   ]
  },
  {
   "cell_type": "code",
   "execution_count": 61,
   "metadata": {},
   "outputs": [],
   "source": [
    "bel_league_P_potential = potential_df.loc[potential_df['league']== 'Belgium Jupiler League']\n",
    "pol_league_P_potential = potential_df.loc[potential_df['league']== 'Poland Ekstraklasa']\n",
    "scot_league_P_potential = potential_df.loc[potential_df['league']== 'Scotland Premier League']\n",
    "switz_league_P_potential = potential_df.loc[potential_df['league']== 'Switzerland Super League']"
   ]
  },
  {
   "cell_type": "code",
   "execution_count": 63,
   "metadata": {},
   "outputs": [],
   "source": [
    "bel_league_P_potential_df = bel_league_P_potential['avg_players_potential']\n",
    "pol_league_P_potential_df  = pol_league_P_potential['avg_players_potential']\n",
    "scot_league_P_potential_df = scot_league_P_potential['avg_players_potential']\n",
    "switz_league_P_potential_df = switz_league_P_potential['avg_players_potential']"
   ]
  },
  {
   "cell_type": "code",
   "execution_count": 64,
   "metadata": {},
   "outputs": [
    {
     "name": "stdout",
     "output_type": "stream",
     "text": [
      "NED vs BEL\n",
      "Ttest_indResult(statistic=28.24840284186084, pvalue=4.4335620380137e-155)\n",
      "NED vs POL\n",
      "Ttest_indResult(statistic=60.031883730786305, pvalue=0.0)\n",
      "NED vs Scot\n",
      "Ttest_indResult(statistic=52.800734203136734, pvalue=0.0)\n",
      "NED vs Switz\n",
      "Ttest_indResult(statistic=40.6784228188515, pvalue=1.0660381590878225e-287)\n"
     ]
    }
   ],
   "source": [
    "print(\"NED vs BEL\")\n",
    "print(stats.ttest_ind(ned_league_potential_df, bel_league_P_potential_df, equal_var=False))\n",
    "print(\"NED vs POL\")\n",
    "print(stats.ttest_ind(ned_league_potential_df, pol_league_P_potential_df, equal_var=False))\n",
    "print(\"NED vs Scot\")\n",
    "print(stats.ttest_ind(ned_league_potential_df, scot_league_P_potential_df, equal_var=False))\n",
    "print(\"NED vs Switz\")\n",
    "print(stats.ttest_ind(ned_league_potential_df, switz_league_P_potential_df, equal_var=False))"
   ]
  },
  {
   "cell_type": "code",
   "execution_count": null,
   "metadata": {},
   "outputs": [],
   "source": []
  }
 ],
 "metadata": {
  "kernelspec": {
   "display_name": "Python [conda env:learn-env] *",
   "language": "python",
   "name": "conda-env-learn-env-py"
  },
  "language_info": {
   "codemirror_mode": {
    "name": "ipython",
    "version": 3
   },
   "file_extension": ".py",
   "mimetype": "text/x-python",
   "name": "python",
   "nbconvert_exporter": "python",
   "pygments_lexer": "ipython3",
   "version": "3.7.0"
  }
 },
 "nbformat": 4,
 "nbformat_minor": 2
}
