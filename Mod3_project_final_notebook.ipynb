{
 "cells": [
  {
   "cell_type": "code",
   "execution_count": 2,
   "metadata": {},
   "outputs": [],
   "source": [
    "from scipy import stats\n",
    "import numpy as np\n",
    "import matplotlib.pyplot as plt\n",
    "%matplotlib inline\n",
    "import seaborn as sns\n",
    "import pandas as pd\n",
    "import sqlite3\n",
    "import numpy as np\n",
    "from numpy import random\n",
    "from functools import reduce"
   ]
  },
  {
   "cell_type": "markdown",
   "metadata": {},
   "source": [
    "# testing goals scored per match in different leagues"
   ]
  },
  {
   "cell_type": "code",
   "execution_count": 3,
   "metadata": {},
   "outputs": [],
   "source": [
    "conn = sqlite3.connect('database.sqlite')\n",
    "c = conn.cursor()"
   ]
  },
  {
   "cell_type": "code",
   "execution_count": 4,
   "metadata": {},
   "outputs": [],
   "source": [
    "c.execute('''SELECT * FROM League ''')\n",
    "\n",
    "league = pd.DataFrame(c.fetchall())\n",
    "league.columns = [i[0] for i in c.description]"
   ]
  },
  {
   "cell_type": "code",
   "execution_count": 5,
   "metadata": {},
   "outputs": [],
   "source": [
    "c.execute('''\n",
    "            SELECT \n",
    "                   m.id,\n",
    "                   l.name as league,\n",
    "                   l.id as league_id,\n",
    "                   m.season,\n",
    "                   m.date,\n",
    "                   m.match_api_id,\n",
    "                   m.home_team_api_id,\n",
    "                   m.away_team_api_id,\n",
    "                   m.home_team_goal,\n",
    "                   m.away_team_goal\n",
    "            FROM Match m\n",
    "            LEFT JOIN League l ON (m.league_id = l.id)\n",
    "                                   \n",
    "            ;''')\n",
    "\n",
    "match_league = pd.DataFrame(c.fetchall())\n",
    "match_league.columns = [i[0] for i in c.description]"
   ]
  },
  {
   "cell_type": "code",
   "execution_count": 6,
   "metadata": {},
   "outputs": [],
   "source": [
    "#get relevant leagues\n",
    "match_league_v2 = match_league.query('league_id == 1 | league_id == 13274 | league_id == 15722 \\\n",
    "                                  | league_id == 17642 | league_id == 19694 | league_id == 24558')"
   ]
  },
  {
   "cell_type": "code",
   "execution_count": 7,
   "metadata": {},
   "outputs": [],
   "source": [
    "match_league_v2 = match_league_v2[['id', 'league', 'season', 'date', 'home_team_goal', 'away_team_goal']]"
   ]
  },
  {
   "cell_type": "code",
   "execution_count": 8,
   "metadata": {},
   "outputs": [],
   "source": [
    "match_league_v2['total_goals'] = match_league_v2['home_team_goal'] + match_league_v2['away_team_goal']"
   ]
  },
  {
   "cell_type": "code",
   "execution_count": 9,
   "metadata": {},
   "outputs": [
    {
     "data": {
      "text/html": [
       "<div>\n",
       "<style scoped>\n",
       "    .dataframe tbody tr th:only-of-type {\n",
       "        vertical-align: middle;\n",
       "    }\n",
       "\n",
       "    .dataframe tbody tr th {\n",
       "        vertical-align: top;\n",
       "    }\n",
       "\n",
       "    .dataframe thead th {\n",
       "        text-align: right;\n",
       "    }\n",
       "</style>\n",
       "<table border=\"1\" class=\"dataframe\">\n",
       "  <thead>\n",
       "    <tr style=\"text-align: right;\">\n",
       "      <th></th>\n",
       "      <th>count</th>\n",
       "      <th>mean</th>\n",
       "      <th>std</th>\n",
       "      <th>min</th>\n",
       "      <th>25%</th>\n",
       "      <th>50%</th>\n",
       "      <th>75%</th>\n",
       "      <th>max</th>\n",
       "    </tr>\n",
       "    <tr>\n",
       "      <th>league</th>\n",
       "      <th></th>\n",
       "      <th></th>\n",
       "      <th></th>\n",
       "      <th></th>\n",
       "      <th></th>\n",
       "      <th></th>\n",
       "      <th></th>\n",
       "      <th></th>\n",
       "    </tr>\n",
       "  </thead>\n",
       "  <tbody>\n",
       "    <tr>\n",
       "      <th>Belgium Jupiler League</th>\n",
       "      <td>1716.0</td>\n",
       "      <td>2.803613</td>\n",
       "      <td>1.654892</td>\n",
       "      <td>0.0</td>\n",
       "      <td>2.0</td>\n",
       "      <td>3.0</td>\n",
       "      <td>4.0</td>\n",
       "      <td>9.0</td>\n",
       "    </tr>\n",
       "    <tr>\n",
       "      <th>Netherlands Eredivisie</th>\n",
       "      <td>2448.0</td>\n",
       "      <td>3.080882</td>\n",
       "      <td>1.740640</td>\n",
       "      <td>0.0</td>\n",
       "      <td>2.0</td>\n",
       "      <td>3.0</td>\n",
       "      <td>4.0</td>\n",
       "      <td>10.0</td>\n",
       "    </tr>\n",
       "    <tr>\n",
       "      <th>Poland Ekstraklasa</th>\n",
       "      <td>1920.0</td>\n",
       "      <td>2.425000</td>\n",
       "      <td>1.540355</td>\n",
       "      <td>0.0</td>\n",
       "      <td>1.0</td>\n",
       "      <td>2.0</td>\n",
       "      <td>3.0</td>\n",
       "      <td>8.0</td>\n",
       "    </tr>\n",
       "    <tr>\n",
       "      <th>Portugal Liga ZON Sagres</th>\n",
       "      <td>2052.0</td>\n",
       "      <td>2.534600</td>\n",
       "      <td>1.637348</td>\n",
       "      <td>0.0</td>\n",
       "      <td>1.0</td>\n",
       "      <td>2.0</td>\n",
       "      <td>4.0</td>\n",
       "      <td>9.0</td>\n",
       "    </tr>\n",
       "    <tr>\n",
       "      <th>Scotland Premier League</th>\n",
       "      <td>1824.0</td>\n",
       "      <td>2.633772</td>\n",
       "      <td>1.644379</td>\n",
       "      <td>0.0</td>\n",
       "      <td>1.0</td>\n",
       "      <td>2.0</td>\n",
       "      <td>4.0</td>\n",
       "      <td>12.0</td>\n",
       "    </tr>\n",
       "    <tr>\n",
       "      <th>Switzerland Super League</th>\n",
       "      <td>1422.0</td>\n",
       "      <td>2.929677</td>\n",
       "      <td>1.717765</td>\n",
       "      <td>0.0</td>\n",
       "      <td>2.0</td>\n",
       "      <td>3.0</td>\n",
       "      <td>4.0</td>\n",
       "      <td>9.0</td>\n",
       "    </tr>\n",
       "  </tbody>\n",
       "</table>\n",
       "</div>"
      ],
      "text/plain": [
       "                           count      mean       std  min  25%  50%  75%   max\n",
       "league                                                                        \n",
       "Belgium Jupiler League    1716.0  2.803613  1.654892  0.0  2.0  3.0  4.0   9.0\n",
       "Netherlands Eredivisie    2448.0  3.080882  1.740640  0.0  2.0  3.0  4.0  10.0\n",
       "Poland Ekstraklasa        1920.0  2.425000  1.540355  0.0  1.0  2.0  3.0   8.0\n",
       "Portugal Liga ZON Sagres  2052.0  2.534600  1.637348  0.0  1.0  2.0  4.0   9.0\n",
       "Scotland Premier League   1824.0  2.633772  1.644379  0.0  1.0  2.0  4.0  12.0\n",
       "Switzerland Super League  1422.0  2.929677  1.717765  0.0  2.0  3.0  4.0   9.0"
      ]
     },
     "execution_count": 9,
     "metadata": {},
     "output_type": "execute_result"
    }
   ],
   "source": [
    "#preview summary statistics by league and by season\n",
    "#match_league_v2.groupby(['league', 'season']).describe()['total_goals']\n",
    "\n",
    "#dropping belgium league season 2013/2014 due to lack of data\n",
    "match_league_v2 = match_league_v2.loc[~((match_league_v2['league'] == 'Belgium Jupiler League') & \n",
    "                     (match_league_v2['season']=='2013/2014'))]\n",
    "\n",
    "#preview summary stats by league, note Dutch league has highest mean goals scored per match\n",
    "match_league_v2.groupby(['league']).describe()['total_goals']"
   ]
  },
  {
   "cell_type": "code",
   "execution_count": 10,
   "metadata": {},
   "outputs": [
    {
     "data": {
      "text/html": [
       "<div>\n",
       "<style scoped>\n",
       "    .dataframe tbody tr th:only-of-type {\n",
       "        vertical-align: middle;\n",
       "    }\n",
       "\n",
       "    .dataframe tbody tr th {\n",
       "        vertical-align: top;\n",
       "    }\n",
       "\n",
       "    .dataframe thead th {\n",
       "        text-align: right;\n",
       "    }\n",
       "</style>\n",
       "<table border=\"1\" class=\"dataframe\">\n",
       "  <thead>\n",
       "    <tr style=\"text-align: right;\">\n",
       "      <th></th>\n",
       "      <th></th>\n",
       "      <th>count</th>\n",
       "      <th>mean</th>\n",
       "      <th>std</th>\n",
       "      <th>min</th>\n",
       "      <th>25%</th>\n",
       "      <th>50%</th>\n",
       "      <th>75%</th>\n",
       "      <th>max</th>\n",
       "    </tr>\n",
       "    <tr>\n",
       "      <th>league</th>\n",
       "      <th>season</th>\n",
       "      <th></th>\n",
       "      <th></th>\n",
       "      <th></th>\n",
       "      <th></th>\n",
       "      <th></th>\n",
       "      <th></th>\n",
       "      <th></th>\n",
       "      <th></th>\n",
       "    </tr>\n",
       "  </thead>\n",
       "  <tbody>\n",
       "    <tr>\n",
       "      <th rowspan=\"7\" valign=\"top\">Belgium Jupiler League</th>\n",
       "      <th>2008/2009</th>\n",
       "      <td>306.0</td>\n",
       "      <td>2.794118</td>\n",
       "      <td>1.599210</td>\n",
       "      <td>0.0</td>\n",
       "      <td>2.00</td>\n",
       "      <td>3.0</td>\n",
       "      <td>4.00</td>\n",
       "      <td>8.0</td>\n",
       "    </tr>\n",
       "    <tr>\n",
       "      <th>2009/2010</th>\n",
       "      <td>210.0</td>\n",
       "      <td>2.690476</td>\n",
       "      <td>1.468784</td>\n",
       "      <td>0.0</td>\n",
       "      <td>2.00</td>\n",
       "      <td>2.0</td>\n",
       "      <td>4.00</td>\n",
       "      <td>7.0</td>\n",
       "    </tr>\n",
       "    <tr>\n",
       "      <th>2010/2011</th>\n",
       "      <td>240.0</td>\n",
       "      <td>2.645833</td>\n",
       "      <td>1.657866</td>\n",
       "      <td>0.0</td>\n",
       "      <td>1.00</td>\n",
       "      <td>2.0</td>\n",
       "      <td>4.00</td>\n",
       "      <td>8.0</td>\n",
       "    </tr>\n",
       "    <tr>\n",
       "      <th>2011/2012</th>\n",
       "      <td>240.0</td>\n",
       "      <td>2.879167</td>\n",
       "      <td>1.803641</td>\n",
       "      <td>0.0</td>\n",
       "      <td>2.00</td>\n",
       "      <td>3.0</td>\n",
       "      <td>4.00</td>\n",
       "      <td>9.0</td>\n",
       "    </tr>\n",
       "    <tr>\n",
       "      <th>2012/2013</th>\n",
       "      <td>240.0</td>\n",
       "      <td>2.929167</td>\n",
       "      <td>1.733012</td>\n",
       "      <td>0.0</td>\n",
       "      <td>2.00</td>\n",
       "      <td>3.0</td>\n",
       "      <td>4.00</td>\n",
       "      <td>8.0</td>\n",
       "    </tr>\n",
       "    <tr>\n",
       "      <th>2014/2015</th>\n",
       "      <td>240.0</td>\n",
       "      <td>2.783333</td>\n",
       "      <td>1.704944</td>\n",
       "      <td>0.0</td>\n",
       "      <td>2.00</td>\n",
       "      <td>3.0</td>\n",
       "      <td>4.00</td>\n",
       "      <td>8.0</td>\n",
       "    </tr>\n",
       "    <tr>\n",
       "      <th>2015/2016</th>\n",
       "      <td>240.0</td>\n",
       "      <td>2.891667</td>\n",
       "      <td>1.588641</td>\n",
       "      <td>0.0</td>\n",
       "      <td>2.00</td>\n",
       "      <td>3.0</td>\n",
       "      <td>4.00</td>\n",
       "      <td>8.0</td>\n",
       "    </tr>\n",
       "    <tr>\n",
       "      <th rowspan=\"8\" valign=\"top\">Netherlands Eredivisie</th>\n",
       "      <th>2008/2009</th>\n",
       "      <td>306.0</td>\n",
       "      <td>2.843137</td>\n",
       "      <td>1.742874</td>\n",
       "      <td>0.0</td>\n",
       "      <td>2.00</td>\n",
       "      <td>3.0</td>\n",
       "      <td>4.00</td>\n",
       "      <td>8.0</td>\n",
       "    </tr>\n",
       "    <tr>\n",
       "      <th>2009/2010</th>\n",
       "      <td>306.0</td>\n",
       "      <td>2.915033</td>\n",
       "      <td>1.755358</td>\n",
       "      <td>0.0</td>\n",
       "      <td>2.00</td>\n",
       "      <td>3.0</td>\n",
       "      <td>4.00</td>\n",
       "      <td>8.0</td>\n",
       "    </tr>\n",
       "    <tr>\n",
       "      <th>2010/2011</th>\n",
       "      <td>306.0</td>\n",
       "      <td>3.225490</td>\n",
       "      <td>1.856704</td>\n",
       "      <td>0.0</td>\n",
       "      <td>2.00</td>\n",
       "      <td>3.0</td>\n",
       "      <td>4.00</td>\n",
       "      <td>10.0</td>\n",
       "    </tr>\n",
       "    <tr>\n",
       "      <th>2011/2012</th>\n",
       "      <td>306.0</td>\n",
       "      <td>3.258170</td>\n",
       "      <td>1.770991</td>\n",
       "      <td>0.0</td>\n",
       "      <td>2.00</td>\n",
       "      <td>3.0</td>\n",
       "      <td>4.00</td>\n",
       "      <td>10.0</td>\n",
       "    </tr>\n",
       "    <tr>\n",
       "      <th>2012/2013</th>\n",
       "      <td>306.0</td>\n",
       "      <td>3.150327</td>\n",
       "      <td>1.762157</td>\n",
       "      <td>0.0</td>\n",
       "      <td>2.00</td>\n",
       "      <td>3.0</td>\n",
       "      <td>4.00</td>\n",
       "      <td>9.0</td>\n",
       "    </tr>\n",
       "    <tr>\n",
       "      <th>2013/2014</th>\n",
       "      <td>306.0</td>\n",
       "      <td>3.196078</td>\n",
       "      <td>1.619791</td>\n",
       "      <td>0.0</td>\n",
       "      <td>2.00</td>\n",
       "      <td>3.0</td>\n",
       "      <td>4.00</td>\n",
       "      <td>8.0</td>\n",
       "    </tr>\n",
       "    <tr>\n",
       "      <th>2014/2015</th>\n",
       "      <td>306.0</td>\n",
       "      <td>3.078431</td>\n",
       "      <td>1.738774</td>\n",
       "      <td>0.0</td>\n",
       "      <td>2.00</td>\n",
       "      <td>3.0</td>\n",
       "      <td>4.00</td>\n",
       "      <td>9.0</td>\n",
       "    </tr>\n",
       "    <tr>\n",
       "      <th>2015/2016</th>\n",
       "      <td>306.0</td>\n",
       "      <td>2.980392</td>\n",
       "      <td>1.639554</td>\n",
       "      <td>0.0</td>\n",
       "      <td>2.00</td>\n",
       "      <td>3.0</td>\n",
       "      <td>4.00</td>\n",
       "      <td>9.0</td>\n",
       "    </tr>\n",
       "    <tr>\n",
       "      <th rowspan=\"8\" valign=\"top\">Poland Ekstraklasa</th>\n",
       "      <th>2008/2009</th>\n",
       "      <td>240.0</td>\n",
       "      <td>2.183333</td>\n",
       "      <td>1.405210</td>\n",
       "      <td>0.0</td>\n",
       "      <td>1.00</td>\n",
       "      <td>2.0</td>\n",
       "      <td>3.00</td>\n",
       "      <td>7.0</td>\n",
       "    </tr>\n",
       "    <tr>\n",
       "      <th>2009/2010</th>\n",
       "      <td>240.0</td>\n",
       "      <td>2.216667</td>\n",
       "      <td>1.487371</td>\n",
       "      <td>0.0</td>\n",
       "      <td>1.00</td>\n",
       "      <td>2.0</td>\n",
       "      <td>3.00</td>\n",
       "      <td>8.0</td>\n",
       "    </tr>\n",
       "    <tr>\n",
       "      <th>2010/2011</th>\n",
       "      <td>240.0</td>\n",
       "      <td>2.408333</td>\n",
       "      <td>1.610612</td>\n",
       "      <td>0.0</td>\n",
       "      <td>1.00</td>\n",
       "      <td>2.0</td>\n",
       "      <td>4.00</td>\n",
       "      <td>7.0</td>\n",
       "    </tr>\n",
       "    <tr>\n",
       "      <th>2011/2012</th>\n",
       "      <td>240.0</td>\n",
       "      <td>2.195833</td>\n",
       "      <td>1.443201</td>\n",
       "      <td>0.0</td>\n",
       "      <td>1.00</td>\n",
       "      <td>2.0</td>\n",
       "      <td>3.00</td>\n",
       "      <td>6.0</td>\n",
       "    </tr>\n",
       "    <tr>\n",
       "      <th>2012/2013</th>\n",
       "      <td>240.0</td>\n",
       "      <td>2.491667</td>\n",
       "      <td>1.414189</td>\n",
       "      <td>0.0</td>\n",
       "      <td>1.75</td>\n",
       "      <td>2.0</td>\n",
       "      <td>3.00</td>\n",
       "      <td>8.0</td>\n",
       "    </tr>\n",
       "    <tr>\n",
       "      <th>2013/2014</th>\n",
       "      <td>240.0</td>\n",
       "      <td>2.641667</td>\n",
       "      <td>1.645564</td>\n",
       "      <td>0.0</td>\n",
       "      <td>1.75</td>\n",
       "      <td>2.0</td>\n",
       "      <td>4.00</td>\n",
       "      <td>8.0</td>\n",
       "    </tr>\n",
       "    <tr>\n",
       "      <th>2014/2015</th>\n",
       "      <td>240.0</td>\n",
       "      <td>2.616667</td>\n",
       "      <td>1.553419</td>\n",
       "      <td>0.0</td>\n",
       "      <td>2.00</td>\n",
       "      <td>3.0</td>\n",
       "      <td>3.00</td>\n",
       "      <td>8.0</td>\n",
       "    </tr>\n",
       "    <tr>\n",
       "      <th>2015/2016</th>\n",
       "      <td>240.0</td>\n",
       "      <td>2.645833</td>\n",
       "      <td>1.665420</td>\n",
       "      <td>0.0</td>\n",
       "      <td>2.00</td>\n",
       "      <td>2.0</td>\n",
       "      <td>4.00</td>\n",
       "      <td>8.0</td>\n",
       "    </tr>\n",
       "    <tr>\n",
       "      <th rowspan=\"8\" valign=\"top\">Portugal Liga ZON Sagres</th>\n",
       "      <th>2008/2009</th>\n",
       "      <td>240.0</td>\n",
       "      <td>2.300000</td>\n",
       "      <td>1.566383</td>\n",
       "      <td>0.0</td>\n",
       "      <td>1.00</td>\n",
       "      <td>2.0</td>\n",
       "      <td>3.00</td>\n",
       "      <td>7.0</td>\n",
       "    </tr>\n",
       "    <tr>\n",
       "      <th>2009/2010</th>\n",
       "      <td>240.0</td>\n",
       "      <td>2.504167</td>\n",
       "      <td>1.801900</td>\n",
       "      <td>0.0</td>\n",
       "      <td>1.00</td>\n",
       "      <td>2.0</td>\n",
       "      <td>4.00</td>\n",
       "      <td>9.0</td>\n",
       "    </tr>\n",
       "    <tr>\n",
       "      <th>2010/2011</th>\n",
       "      <td>240.0</td>\n",
       "      <td>2.433333</td>\n",
       "      <td>1.640152</td>\n",
       "      <td>0.0</td>\n",
       "      <td>1.00</td>\n",
       "      <td>2.0</td>\n",
       "      <td>3.00</td>\n",
       "      <td>7.0</td>\n",
       "    </tr>\n",
       "    <tr>\n",
       "      <th>2011/2012</th>\n",
       "      <td>240.0</td>\n",
       "      <td>2.641667</td>\n",
       "      <td>1.688236</td>\n",
       "      <td>0.0</td>\n",
       "      <td>1.00</td>\n",
       "      <td>3.0</td>\n",
       "      <td>4.00</td>\n",
       "      <td>8.0</td>\n",
       "    </tr>\n",
       "    <tr>\n",
       "      <th>2012/2013</th>\n",
       "      <td>240.0</td>\n",
       "      <td>2.779167</td>\n",
       "      <td>1.632945</td>\n",
       "      <td>0.0</td>\n",
       "      <td>2.00</td>\n",
       "      <td>3.0</td>\n",
       "      <td>4.00</td>\n",
       "      <td>8.0</td>\n",
       "    </tr>\n",
       "    <tr>\n",
       "      <th>2013/2014</th>\n",
       "      <td>240.0</td>\n",
       "      <td>2.370833</td>\n",
       "      <td>1.457911</td>\n",
       "      <td>0.0</td>\n",
       "      <td>1.00</td>\n",
       "      <td>2.0</td>\n",
       "      <td>3.00</td>\n",
       "      <td>7.0</td>\n",
       "    </tr>\n",
       "    <tr>\n",
       "      <th>2014/2015</th>\n",
       "      <td>306.0</td>\n",
       "      <td>2.493464</td>\n",
       "      <td>1.539094</td>\n",
       "      <td>0.0</td>\n",
       "      <td>1.00</td>\n",
       "      <td>2.0</td>\n",
       "      <td>3.75</td>\n",
       "      <td>7.0</td>\n",
       "    </tr>\n",
       "    <tr>\n",
       "      <th>2015/2016</th>\n",
       "      <td>306.0</td>\n",
       "      <td>2.715686</td>\n",
       "      <td>1.712313</td>\n",
       "      <td>0.0</td>\n",
       "      <td>1.00</td>\n",
       "      <td>3.0</td>\n",
       "      <td>4.00</td>\n",
       "      <td>7.0</td>\n",
       "    </tr>\n",
       "    <tr>\n",
       "      <th rowspan=\"8\" valign=\"top\">Scotland Premier League</th>\n",
       "      <th>2008/2009</th>\n",
       "      <td>228.0</td>\n",
       "      <td>2.403509</td>\n",
       "      <td>1.506048</td>\n",
       "      <td>0.0</td>\n",
       "      <td>1.00</td>\n",
       "      <td>2.0</td>\n",
       "      <td>3.00</td>\n",
       "      <td>8.0</td>\n",
       "    </tr>\n",
       "    <tr>\n",
       "      <th>2009/2010</th>\n",
       "      <td>228.0</td>\n",
       "      <td>2.565789</td>\n",
       "      <td>1.805539</td>\n",
       "      <td>0.0</td>\n",
       "      <td>1.00</td>\n",
       "      <td>2.0</td>\n",
       "      <td>3.00</td>\n",
       "      <td>12.0</td>\n",
       "    </tr>\n",
       "    <tr>\n",
       "      <th>2010/2011</th>\n",
       "      <td>228.0</td>\n",
       "      <td>2.561404</td>\n",
       "      <td>1.469425</td>\n",
       "      <td>0.0</td>\n",
       "      <td>2.00</td>\n",
       "      <td>2.0</td>\n",
       "      <td>3.00</td>\n",
       "      <td>9.0</td>\n",
       "    </tr>\n",
       "    <tr>\n",
       "      <th>2011/2012</th>\n",
       "      <td>228.0</td>\n",
       "      <td>2.635965</td>\n",
       "      <td>1.772011</td>\n",
       "      <td>0.0</td>\n",
       "      <td>1.00</td>\n",
       "      <td>2.0</td>\n",
       "      <td>4.00</td>\n",
       "      <td>9.0</td>\n",
       "    </tr>\n",
       "    <tr>\n",
       "      <th>2012/2013</th>\n",
       "      <td>228.0</td>\n",
       "      <td>2.732456</td>\n",
       "      <td>1.751877</td>\n",
       "      <td>0.0</td>\n",
       "      <td>1.00</td>\n",
       "      <td>3.0</td>\n",
       "      <td>4.00</td>\n",
       "      <td>9.0</td>\n",
       "    </tr>\n",
       "    <tr>\n",
       "      <th>2013/2014</th>\n",
       "      <td>228.0</td>\n",
       "      <td>2.745614</td>\n",
       "      <td>1.630175</td>\n",
       "      <td>0.0</td>\n",
       "      <td>2.00</td>\n",
       "      <td>3.0</td>\n",
       "      <td>4.00</td>\n",
       "      <td>7.0</td>\n",
       "    </tr>\n",
       "    <tr>\n",
       "      <th>2014/2015</th>\n",
       "      <td>228.0</td>\n",
       "      <td>2.574561</td>\n",
       "      <td>1.456767</td>\n",
       "      <td>0.0</td>\n",
       "      <td>1.00</td>\n",
       "      <td>2.5</td>\n",
       "      <td>3.00</td>\n",
       "      <td>8.0</td>\n",
       "    </tr>\n",
       "    <tr>\n",
       "      <th>2015/2016</th>\n",
       "      <td>228.0</td>\n",
       "      <td>2.850877</td>\n",
       "      <td>1.703753</td>\n",
       "      <td>0.0</td>\n",
       "      <td>2.00</td>\n",
       "      <td>3.0</td>\n",
       "      <td>4.00</td>\n",
       "      <td>9.0</td>\n",
       "    </tr>\n",
       "    <tr>\n",
       "      <th rowspan=\"8\" valign=\"top\">Switzerland Super League</th>\n",
       "      <th>2008/2009</th>\n",
       "      <td>180.0</td>\n",
       "      <td>3.000000</td>\n",
       "      <td>1.803163</td>\n",
       "      <td>0.0</td>\n",
       "      <td>2.00</td>\n",
       "      <td>3.0</td>\n",
       "      <td>4.00</td>\n",
       "      <td>8.0</td>\n",
       "    </tr>\n",
       "    <tr>\n",
       "      <th>2009/2010</th>\n",
       "      <td>180.0</td>\n",
       "      <td>3.327778</td>\n",
       "      <td>1.742760</td>\n",
       "      <td>0.0</td>\n",
       "      <td>2.00</td>\n",
       "      <td>3.0</td>\n",
       "      <td>4.00</td>\n",
       "      <td>9.0</td>\n",
       "    </tr>\n",
       "    <tr>\n",
       "      <th>2010/2011</th>\n",
       "      <td>180.0</td>\n",
       "      <td>2.983333</td>\n",
       "      <td>1.587222</td>\n",
       "      <td>0.0</td>\n",
       "      <td>2.00</td>\n",
       "      <td>3.0</td>\n",
       "      <td>4.00</td>\n",
       "      <td>8.0</td>\n",
       "    </tr>\n",
       "    <tr>\n",
       "      <th>2011/2012</th>\n",
       "      <td>162.0</td>\n",
       "      <td>2.623457</td>\n",
       "      <td>1.694036</td>\n",
       "      <td>0.0</td>\n",
       "      <td>1.00</td>\n",
       "      <td>2.0</td>\n",
       "      <td>4.00</td>\n",
       "      <td>9.0</td>\n",
       "    </tr>\n",
       "    <tr>\n",
       "      <th>2012/2013</th>\n",
       "      <td>180.0</td>\n",
       "      <td>2.566667</td>\n",
       "      <td>1.568189</td>\n",
       "      <td>0.0</td>\n",
       "      <td>1.75</td>\n",
       "      <td>2.0</td>\n",
       "      <td>4.00</td>\n",
       "      <td>8.0</td>\n",
       "    </tr>\n",
       "    <tr>\n",
       "      <th>2013/2014</th>\n",
       "      <td>180.0</td>\n",
       "      <td>2.888889</td>\n",
       "      <td>1.630330</td>\n",
       "      <td>0.0</td>\n",
       "      <td>2.00</td>\n",
       "      <td>3.0</td>\n",
       "      <td>4.00</td>\n",
       "      <td>8.0</td>\n",
       "    </tr>\n",
       "    <tr>\n",
       "      <th>2014/2015</th>\n",
       "      <td>180.0</td>\n",
       "      <td>2.872222</td>\n",
       "      <td>1.797051</td>\n",
       "      <td>0.0</td>\n",
       "      <td>1.00</td>\n",
       "      <td>3.0</td>\n",
       "      <td>4.00</td>\n",
       "      <td>8.0</td>\n",
       "    </tr>\n",
       "    <tr>\n",
       "      <th>2015/2016</th>\n",
       "      <td>180.0</td>\n",
       "      <td>3.144444</td>\n",
       "      <td>1.803542</td>\n",
       "      <td>0.0</td>\n",
       "      <td>2.00</td>\n",
       "      <td>3.0</td>\n",
       "      <td>4.00</td>\n",
       "      <td>9.0</td>\n",
       "    </tr>\n",
       "  </tbody>\n",
       "</table>\n",
       "</div>"
      ],
      "text/plain": [
       "                                    count      mean       std  min   25%  50%  \\\n",
       "league                   season                                                 \n",
       "Belgium Jupiler League   2008/2009  306.0  2.794118  1.599210  0.0  2.00  3.0   \n",
       "                         2009/2010  210.0  2.690476  1.468784  0.0  2.00  2.0   \n",
       "                         2010/2011  240.0  2.645833  1.657866  0.0  1.00  2.0   \n",
       "                         2011/2012  240.0  2.879167  1.803641  0.0  2.00  3.0   \n",
       "                         2012/2013  240.0  2.929167  1.733012  0.0  2.00  3.0   \n",
       "                         2014/2015  240.0  2.783333  1.704944  0.0  2.00  3.0   \n",
       "                         2015/2016  240.0  2.891667  1.588641  0.0  2.00  3.0   \n",
       "Netherlands Eredivisie   2008/2009  306.0  2.843137  1.742874  0.0  2.00  3.0   \n",
       "                         2009/2010  306.0  2.915033  1.755358  0.0  2.00  3.0   \n",
       "                         2010/2011  306.0  3.225490  1.856704  0.0  2.00  3.0   \n",
       "                         2011/2012  306.0  3.258170  1.770991  0.0  2.00  3.0   \n",
       "                         2012/2013  306.0  3.150327  1.762157  0.0  2.00  3.0   \n",
       "                         2013/2014  306.0  3.196078  1.619791  0.0  2.00  3.0   \n",
       "                         2014/2015  306.0  3.078431  1.738774  0.0  2.00  3.0   \n",
       "                         2015/2016  306.0  2.980392  1.639554  0.0  2.00  3.0   \n",
       "Poland Ekstraklasa       2008/2009  240.0  2.183333  1.405210  0.0  1.00  2.0   \n",
       "                         2009/2010  240.0  2.216667  1.487371  0.0  1.00  2.0   \n",
       "                         2010/2011  240.0  2.408333  1.610612  0.0  1.00  2.0   \n",
       "                         2011/2012  240.0  2.195833  1.443201  0.0  1.00  2.0   \n",
       "                         2012/2013  240.0  2.491667  1.414189  0.0  1.75  2.0   \n",
       "                         2013/2014  240.0  2.641667  1.645564  0.0  1.75  2.0   \n",
       "                         2014/2015  240.0  2.616667  1.553419  0.0  2.00  3.0   \n",
       "                         2015/2016  240.0  2.645833  1.665420  0.0  2.00  2.0   \n",
       "Portugal Liga ZON Sagres 2008/2009  240.0  2.300000  1.566383  0.0  1.00  2.0   \n",
       "                         2009/2010  240.0  2.504167  1.801900  0.0  1.00  2.0   \n",
       "                         2010/2011  240.0  2.433333  1.640152  0.0  1.00  2.0   \n",
       "                         2011/2012  240.0  2.641667  1.688236  0.0  1.00  3.0   \n",
       "                         2012/2013  240.0  2.779167  1.632945  0.0  2.00  3.0   \n",
       "                         2013/2014  240.0  2.370833  1.457911  0.0  1.00  2.0   \n",
       "                         2014/2015  306.0  2.493464  1.539094  0.0  1.00  2.0   \n",
       "                         2015/2016  306.0  2.715686  1.712313  0.0  1.00  3.0   \n",
       "Scotland Premier League  2008/2009  228.0  2.403509  1.506048  0.0  1.00  2.0   \n",
       "                         2009/2010  228.0  2.565789  1.805539  0.0  1.00  2.0   \n",
       "                         2010/2011  228.0  2.561404  1.469425  0.0  2.00  2.0   \n",
       "                         2011/2012  228.0  2.635965  1.772011  0.0  1.00  2.0   \n",
       "                         2012/2013  228.0  2.732456  1.751877  0.0  1.00  3.0   \n",
       "                         2013/2014  228.0  2.745614  1.630175  0.0  2.00  3.0   \n",
       "                         2014/2015  228.0  2.574561  1.456767  0.0  1.00  2.5   \n",
       "                         2015/2016  228.0  2.850877  1.703753  0.0  2.00  3.0   \n",
       "Switzerland Super League 2008/2009  180.0  3.000000  1.803163  0.0  2.00  3.0   \n",
       "                         2009/2010  180.0  3.327778  1.742760  0.0  2.00  3.0   \n",
       "                         2010/2011  180.0  2.983333  1.587222  0.0  2.00  3.0   \n",
       "                         2011/2012  162.0  2.623457  1.694036  0.0  1.00  2.0   \n",
       "                         2012/2013  180.0  2.566667  1.568189  0.0  1.75  2.0   \n",
       "                         2013/2014  180.0  2.888889  1.630330  0.0  2.00  3.0   \n",
       "                         2014/2015  180.0  2.872222  1.797051  0.0  1.00  3.0   \n",
       "                         2015/2016  180.0  3.144444  1.803542  0.0  2.00  3.0   \n",
       "\n",
       "                                     75%   max  \n",
       "league                   season                 \n",
       "Belgium Jupiler League   2008/2009  4.00   8.0  \n",
       "                         2009/2010  4.00   7.0  \n",
       "                         2010/2011  4.00   8.0  \n",
       "                         2011/2012  4.00   9.0  \n",
       "                         2012/2013  4.00   8.0  \n",
       "                         2014/2015  4.00   8.0  \n",
       "                         2015/2016  4.00   8.0  \n",
       "Netherlands Eredivisie   2008/2009  4.00   8.0  \n",
       "                         2009/2010  4.00   8.0  \n",
       "                         2010/2011  4.00  10.0  \n",
       "                         2011/2012  4.00  10.0  \n",
       "                         2012/2013  4.00   9.0  \n",
       "                         2013/2014  4.00   8.0  \n",
       "                         2014/2015  4.00   9.0  \n",
       "                         2015/2016  4.00   9.0  \n",
       "Poland Ekstraklasa       2008/2009  3.00   7.0  \n",
       "                         2009/2010  3.00   8.0  \n",
       "                         2010/2011  4.00   7.0  \n",
       "                         2011/2012  3.00   6.0  \n",
       "                         2012/2013  3.00   8.0  \n",
       "                         2013/2014  4.00   8.0  \n",
       "                         2014/2015  3.00   8.0  \n",
       "                         2015/2016  4.00   8.0  \n",
       "Portugal Liga ZON Sagres 2008/2009  3.00   7.0  \n",
       "                         2009/2010  4.00   9.0  \n",
       "                         2010/2011  3.00   7.0  \n",
       "                         2011/2012  4.00   8.0  \n",
       "                         2012/2013  4.00   8.0  \n",
       "                         2013/2014  3.00   7.0  \n",
       "                         2014/2015  3.75   7.0  \n",
       "                         2015/2016  4.00   7.0  \n",
       "Scotland Premier League  2008/2009  3.00   8.0  \n",
       "                         2009/2010  3.00  12.0  \n",
       "                         2010/2011  3.00   9.0  \n",
       "                         2011/2012  4.00   9.0  \n",
       "                         2012/2013  4.00   9.0  \n",
       "                         2013/2014  4.00   7.0  \n",
       "                         2014/2015  3.00   8.0  \n",
       "                         2015/2016  4.00   9.0  \n",
       "Switzerland Super League 2008/2009  4.00   8.0  \n",
       "                         2009/2010  4.00   9.0  \n",
       "                         2010/2011  4.00   8.0  \n",
       "                         2011/2012  4.00   9.0  \n",
       "                         2012/2013  4.00   8.0  \n",
       "                         2013/2014  4.00   8.0  \n",
       "                         2014/2015  4.00   8.0  \n",
       "                         2015/2016  4.00   9.0  "
      ]
     },
     "execution_count": 10,
     "metadata": {},
     "output_type": "execute_result"
    }
   ],
   "source": [
    "match_league_v2.groupby(['league', 'season']).describe()['total_goals']"
   ]
  },
  {
   "cell_type": "code",
   "execution_count": 11,
   "metadata": {},
   "outputs": [],
   "source": [
    "#assumption - different leagues are different population with different means and variances\n",
    "#null hypothesis - there is no differences between average goals scored per match in the Dutch league and the other leagues\n",
    "#alternative hypothesis - statistically there are more goals scored per match in the Dutch league than the other leagues \n",
    "#alpha level = 0.05\n",
    "#use one tail welch t-test"
   ]
  },
  {
   "cell_type": "code",
   "execution_count": 12,
   "metadata": {},
   "outputs": [],
   "source": [
    "#extract goal information for each league\n",
    "bel_goals = np.array(match_league_v2.loc[match_league_v2['league']=='Belgium Jupiler League']['total_goals'])\n",
    "ned_goals = np.array(match_league_v2.loc[match_league_v2['league']=='Netherlands Eredivisie']['total_goals'])\n",
    "pol_goals = np.array(match_league_v2.loc[match_league_v2['league']=='Poland Ekstraklasa']['total_goals'])\n",
    "prt_goals = np.array(match_league_v2.loc[match_league_v2['league']=='Portugal Liga ZON Sagres']['total_goals'])\n",
    "sct_goals = np.array(match_league_v2.loc[match_league_v2['league']=='Scotland Premier League']['total_goals'])\n",
    "sui_goals = np.array(match_league_v2.loc[match_league_v2['league']=='Switzerland Super League']['total_goals'])"
   ]
  },
  {
   "cell_type": "code",
   "execution_count": 13,
   "metadata": {},
   "outputs": [
    {
     "data": {
      "text/plain": [
       "0.004327737916030082"
      ]
     },
     "execution_count": 13,
     "metadata": {},
     "output_type": "execute_result"
    }
   ],
   "source": [
    "#comparison NED vs SUI\n",
    "t, p = stats.ttest_ind(ned_goals, sui_goals, equal_var=False)\n",
    "p/2\n",
    "#Null hypothesis rejected"
   ]
  },
  {
   "cell_type": "code",
   "execution_count": 14,
   "metadata": {},
   "outputs": [
    {
     "data": {
      "image/png": "[encoded data removed]",
      "text/plain": [
       "<Figure size 432x288 with 1 Axes>"
      ]
     },
     "metadata": {
      "needs_background": "light"
     },
     "output_type": "display_data"
    }
   ],
   "source": [
    "plt.hist(ned_goals, label='Eredivise');\n",
    "plt.hist(prt_goals, label='Portugal', alpha=0.5);\n",
    "plt.legend();"
   ]
  },
  {
   "cell_type": "code",
   "execution_count": 15,
   "metadata": {},
   "outputs": [],
   "source": [
    "def Cohen_d(group1, group2):\n",
    "\n",
    "    # Compute Cohen's d.\n",
    "\n",
    "    # group1: Series or NumPy array\n",
    "    # group2: Series or NumPy array\n",
    "\n",
    "    # returns a floating point number \n",
    "\n",
    "    diff = group1.mean() - group2.mean()\n",
    "\n",
    "    n1, n2 = len(group1), len(group2)\n",
    "    var1 = group1.var()\n",
    "    var2 = group2.var()\n",
    "\n",
    "    # Calculate the pooled threshold as shown earlier\n",
    "    pooled_var = (n1 * var1 + n2 * var2) / (n1 + n2)\n",
    "    \n",
    "    # Calculate Cohen's d statistic\n",
    "    d = diff / np.sqrt(pooled_var)\n",
    "    \n",
    "    return d"
   ]
  },
  {
   "cell_type": "code",
   "execution_count": 16,
   "metadata": {},
   "outputs": [
    {
     "data": {
      "text/plain": [
       "(0.004327737916030082, 0.08731019106638802)"
      ]
     },
     "execution_count": 16,
     "metadata": {},
     "output_type": "execute_result"
    }
   ],
   "source": [
    "#comparison NED vs SUI\n",
    "t, p = stats.ttest_ind(ned_goals, sui_goals, equal_var=False)\n",
    "p/2, Cohen_d(ned_goals, sui_goals)\n",
    "#Null hypothesis rejected"
   ]
  },
  {
   "cell_type": "code",
   "execution_count": 17,
   "metadata": {},
   "outputs": [
    {
     "data": {
      "text/plain": [
       "(1.0012208734123801e-07, 0.16258133202574165)"
      ]
     },
     "execution_count": 17,
     "metadata": {},
     "output_type": "execute_result"
    }
   ],
   "source": [
    "#comparison NED vs BEL\n",
    "t, p = stats.ttest_ind(ned_goals, bel_goals, equal_var=False)\n",
    "p/2, Cohen_d(ned_goals, bel_goals)\n",
    "#Null hypothesis rejected"
   ]
  },
  {
   "cell_type": "code",
   "execution_count": 18,
   "metadata": {},
   "outputs": [
    {
     "data": {
      "text/plain": [
       "(2.9105636507811226e-39, 0.396251804624763)"
      ]
     },
     "execution_count": 18,
     "metadata": {},
     "output_type": "execute_result"
    }
   ],
   "source": [
    "#comparison NED vs POL\n",
    "t, p = stats.ttest_ind(ned_goals, pol_goals, equal_var=False)\n",
    "p/2, Cohen_d(ned_goals, pol_goals)\n",
    "#Null hypothesis rejected"
   ]
  },
  {
   "cell_type": "code",
   "execution_count": 19,
   "metadata": {},
   "outputs": [
    {
     "data": {
      "text/plain": [
       "(2.680079900139088e-27, 0.32249090344988524)"
      ]
     },
     "execution_count": 19,
     "metadata": {},
     "output_type": "execute_result"
    }
   ],
   "source": [
    "#comparison NED vs PRT\n",
    "t, p = stats.ttest_ind(ned_goals, prt_goals, equal_var=False)\n",
    "p/2, Cohen_d(ned_goals, prt_goals)\n",
    "#Null hypothesis rejected"
   ]
  },
  {
   "cell_type": "code",
   "execution_count": 20,
   "metadata": {},
   "outputs": [
    {
     "data": {
      "text/plain": [
       "(7.09162432337077e-18, 0.2630352682762722)"
      ]
     },
     "execution_count": 20,
     "metadata": {},
     "output_type": "execute_result"
    }
   ],
   "source": [
    "#comparison NED vs SCT\n",
    "t, p = stats.ttest_ind(ned_goals, sct_goals, equal_var=False)\n",
    "p/2, Cohen_d(ned_goals, sct_goals)\n",
    "#Null hypothesis rejected"
   ]
  },
  {
   "cell_type": "code",
   "execution_count": null,
   "metadata": {},
   "outputs": [],
   "source": [
    "#p-value for comparison statistically significant for all comparison, Dutch league score more goals on average per match"
   ]
  },
  {
   "cell_type": "markdown",
   "metadata": {},
   "source": [
    "# hypothesis testing for scoreless matches in different leagues"
   ]
  },
  {
   "cell_type": "code",
   "execution_count": 22,
   "metadata": {},
   "outputs": [],
   "source": [
    "#combine match data with league name\n",
    "c.execute('''\n",
    "            SELECT \n",
    "                   m.id,\n",
    "                   l.name as league,\n",
    "                   l.id as league_id,\n",
    "                   m.season,\n",
    "                   m.stage,\n",
    "                   m.date,\n",
    "                   m.match_api_id,\n",
    "                   m.home_team_api_id,\n",
    "                   m.away_team_api_id,\n",
    "                   m.home_team_goal,\n",
    "                   m.away_team_goal\n",
    "            FROM Match m\n",
    "            LEFT JOIN League l ON (m.league_id = l.id)\n",
    "                                   \n",
    "            ;''')\n",
    "\n",
    "match_league = pd.DataFrame(c.fetchall())\n",
    "match_league.columns = [i[0] for i in c.description]"
   ]
  },
  {
   "cell_type": "code",
   "execution_count": 23,
   "metadata": {},
   "outputs": [],
   "source": [
    "#calculate total match goals\n",
    "match_league['total_goals'] = match_league['home_team_goal'] + match_league['away_team_goal']\n",
    "\n",
    "#drop belgium league season 2013/2014 due to lack of information\n",
    "match_league= match_league.loc[~((match_league['league'] == 'Belgium Jupiler League') & \n",
    "                     (match_league['season']=='2013/2014'))]\n",
    "\n",
    "#retrieve match data for leagues in question\n",
    "match_league= match_league.query('league_id == 1 | league_id == 13274 | league_id == 15722 \\\n",
    "                                  | league_id == 17642 | league_id == 19694 | league_id == 24558')"
   ]
  },
  {
   "cell_type": "code",
   "execution_count": 24,
   "metadata": {},
   "outputs": [],
   "source": [
    "#create categorical variable for scoreless matches\n",
    "match_league['scoreless'] = match_league['total_goals'].apply(lambda x: 1 if x==0 else 0)"
   ]
  },
  {
   "cell_type": "code",
   "execution_count": 25,
   "metadata": {},
   "outputs": [],
   "source": [
    "#aggregate match stats based on league, season and scoreless matches\n",
    "match_scoreless_season = match_league.groupby(['league', 'season']).describe()['scoreless']\n",
    "\n",
    "match_scoreless = match_league.groupby(['league', 'season', 'stage']).describe()['scoreless']\n",
    "\n",
    "match_scoreless_season = match_scoreless_season[['count', 'mean']]\n",
    "\n",
    "match_scoreless_season['matches_scoreless'] = match_scoreless_season['count']*match_scoreless_season['mean']\n",
    "\n",
    "match_scoreless_season['pct_scoreless'] = match_scoreless_season['matches_scoreless']/match_scoreless_season['count']*100"
   ]
  },
  {
   "cell_type": "code",
   "execution_count": 26,
   "metadata": {},
   "outputs": [],
   "source": [
    "match_scoreless_league = match_league.groupby(['league']).describe()['scoreless']\n",
    "\n",
    "match_scoreless_league = match_scoreless_league[['count', 'mean']]\n",
    "match_scoreless_league['matches_scoreless'] = match_scoreless_league['count']*match_scoreless_league['mean']\n",
    "match_scoreless_league['pct_scoreless'] = match_scoreless_league['matches_scoreless']/match_scoreless_league['count']*100"
   ]
  },
  {
   "cell_type": "code",
   "execution_count": 27,
   "metadata": {},
   "outputs": [
    {
     "data": {
      "text/plain": [
       "Index(['Belgium Jupiler League', 'Belgium Jupiler League',\n",
       "       'Belgium Jupiler League', 'Belgium Jupiler League',\n",
       "       'Belgium Jupiler League', 'Belgium Jupiler League',\n",
       "       'Belgium Jupiler League', 'Belgium Jupiler League',\n",
       "       'Belgium Jupiler League', 'Belgium Jupiler League',\n",
       "       ...\n",
       "       'Switzerland Super League', 'Switzerland Super League',\n",
       "       'Switzerland Super League', 'Switzerland Super League',\n",
       "       'Switzerland Super League', 'Switzerland Super League',\n",
       "       'Switzerland Super League', 'Switzerland Super League',\n",
       "       'Switzerland Super League', 'Switzerland Super League'],\n",
       "      dtype='object', name='league', length=1566)"
      ]
     },
     "execution_count": 27,
     "metadata": {},
     "output_type": "execute_result"
    }
   ],
   "source": [
    "test_df = match_scoreless[['count','mean']]\n",
    "\n",
    "match_scoreless.index.get_level_values('league')"
   ]
  },
  {
   "cell_type": "code",
   "execution_count": 28,
   "metadata": {},
   "outputs": [],
   "source": [
    "#function for retrieving league data as an array\n",
    "def get_league_data(match_df, league_name):\n",
    "    league_df = match_df.loc[match_df.index.get_level_values('league')==league_name][['count','mean']]\n",
    "    league_df['num'] = league_df['count']*league_df['mean']\n",
    "    league_array = np.array(league_df['mean'])\n",
    "    \n",
    "    return league_array*100"
   ]
  },
  {
   "cell_type": "code",
   "execution_count": 29,
   "metadata": {},
   "outputs": [],
   "source": [
    "#separate data into series by league\n",
    "bel_scoreless = get_league_data(match_scoreless, 'Belgium Jupiler League')\n",
    "ned_scoreless = get_league_data(match_scoreless, 'Netherlands Eredivisie')\n",
    "pol_scoreless = get_league_data(match_scoreless, 'Poland Ekstraklasa')\n",
    "prt_scoreless = get_league_data(match_scoreless, 'Portugal Liga ZON Sagres')\n",
    "sct_scoreless = get_league_data(match_scoreless, 'Scotland Premier League')\n",
    "sui_scoreless = get_league_data(match_scoreless, 'Scotland Premier League')"
   ]
  },
  {
   "cell_type": "code",
   "execution_count": 30,
   "metadata": {},
   "outputs": [],
   "source": [
    "#null hypothesis - there is no statistical difference in the percentage of scoreless matches between the Dutch league and other leagues\n",
    "#alternative hypothesis - there is statistical difference in the Dutch league and the other leagues with Dutch league having\n",
    "#lower percentage of scoreless matches\n",
    "\n",
    "#result - rejected null hypothesis"
   ]
  },
  {
   "cell_type": "code",
   "execution_count": 31,
   "metadata": {},
   "outputs": [
    {
     "data": {
      "text/plain": [
       "(0.011293981412264013, 0.216168397232261)"
      ]
     },
     "execution_count": 31,
     "metadata": {},
     "output_type": "execute_result"
    }
   ],
   "source": [
    "#NED vs. BEL\n",
    "t,p = stats.ttest_ind(ned_scoreless, bel_scoreless, equal_var=False)\n",
    "p/2, abs(Cohen_d(ned_scoreless, bel_scoreless))"
   ]
  },
  {
   "cell_type": "code",
   "execution_count": 32,
   "metadata": {},
   "outputs": [
    {
     "data": {
      "text/plain": [
       "(0.0001461004274129247, 0.29746883081130093)"
      ]
     },
     "execution_count": 32,
     "metadata": {},
     "output_type": "execute_result"
    }
   ],
   "source": [
    "#NED vs. SUI\n",
    "t, p = stats.ttest_ind(ned_scoreless, sui_scoreless, equal_var=False)\n",
    "p/2, abs(Cohen_d(ned_scoreless, sui_scoreless))"
   ]
  },
  {
   "cell_type": "code",
   "execution_count": 33,
   "metadata": {},
   "outputs": [
    {
     "data": {
      "text/plain": [
       "(5.483984281754976e-08, 0.49162332667166597)"
      ]
     },
     "execution_count": 33,
     "metadata": {},
     "output_type": "execute_result"
    }
   ],
   "source": [
    "t, p = stats.ttest_ind(ned_scoreless, pol_scoreless, equal_var=False)\n",
    "p/2, abs(Cohen_d(ned_scoreless, pol_scoreless))"
   ]
  },
  {
   "cell_type": "code",
   "execution_count": 34,
   "metadata": {},
   "outputs": [
    {
     "data": {
      "text/plain": [
       "(6.563818530760138e-08, 0.47973797139417246)"
      ]
     },
     "execution_count": 34,
     "metadata": {},
     "output_type": "execute_result"
    }
   ],
   "source": [
    "t, p = stats.ttest_ind(ned_scoreless, prt_scoreless, equal_var=False)\n",
    "p/2, abs(Cohen_d(ned_scoreless, prt_scoreless))"
   ]
  },
  {
   "cell_type": "code",
   "execution_count": 35,
   "metadata": {},
   "outputs": [
    {
     "data": {
      "text/plain": [
       "(0.0001461004274129247, 0.29746883081130093)"
      ]
     },
     "execution_count": 35,
     "metadata": {},
     "output_type": "execute_result"
    }
   ],
   "source": [
    "t, p = stats.ttest_ind(ned_scoreless, sct_scoreless, equal_var=False)\n",
    "p/2, abs(Cohen_d(ned_scoreless, sct_scoreless))"
   ]
  },
  {
   "cell_type": "markdown",
   "metadata": {},
   "source": [
    "# Hypothesis test for Avg players rating per match in league\n",
    "### (FYI, I have done some manual work getting every players overall rating & potential with lots of cells\n",
    "### Not putting those works here in the notebook instead I created csv file after joining those dataset)"
   ]
  },
  {
   "cell_type": "code",
   "execution_count": 38,
   "metadata": {},
   "outputs": [],
   "source": [
    "from scipy import stats\n",
    "import numpy as np\n",
    "import matplotlib.pyplot as plt\n",
    "%matplotlib inline\n",
    "import seaborn as sns\n",
    "import pandas as pd\n",
    "import sqlite3\n",
    "import numpy as np\n",
    "from numpy import random\n",
    "from functools import reduce"
   ]
  },
  {
   "cell_type": "code",
   "execution_count": 39,
   "metadata": {},
   "outputs": [],
   "source": [
    "# Created two different csv files with every players rating and players potential per match in league\n",
    "rating_df = pd.read_csv('avg_player_rating.csv')\n",
    "potential_df = pd.read_csv('avg_player_potential.csv')"
   ]
  },
  {
   "cell_type": "code",
   "execution_count": 40,
   "metadata": {},
   "outputs": [],
   "source": [
    "# Dividing the leagues\n",
    "ned_league_rating = rating_df.loc[rating_df['league']== 'Netherlands Eredivisie']\n",
    "port_league_rating = rating_df.loc[rating_df['league']== 'Portugal Liga ZON Sagres']\n",
    "bel_league_rating = rating_df.loc[rating_df['league']== 'Belgium Jupiler League']\n",
    "pol_league_rating = rating_df.loc[rating_df['league']== 'Poland Ekstraklasa']\n",
    "scot_league_rating = rating_df.loc[rating_df['league']== 'Scotland Premier League']\n",
    "switz_league_rating = rating_df.loc[rating_df['league']== 'Switzerland Super League']"
   ]
  },
  {
   "cell_type": "code",
   "execution_count": 41,
   "metadata": {},
   "outputs": [],
   "source": [
    "# looking at avg_player_rating in each league\n",
    "ned_league_rating_df = ned_league_rating['avg_player_rating']\n",
    "port_league_rating_df = port_league_rating['avg_player_rating']\n",
    "bel_league_rating_df = bel_league_rating['avg_player_rating']\n",
    "pol_league_rating_df  = pol_league_rating['avg_player_rating']\n",
    "scot_league_rating_df = scot_league_rating['avg_player_rating']\n",
    "switz_league_rating_df = switz_league_rating['avg_player_rating']"
   ]
  },
  {
   "cell_type": "code",
   "execution_count": 42,
   "metadata": {},
   "outputs": [
    {
     "name": "stdout",
     "output_type": "stream",
     "text": [
      "NED vs PORT\n",
      "Ttest_indResult(statistic=-0.46880757273489804, pvalue=0.6392380237116921)\n",
      "NED vs BEL\n",
      "Ttest_indResult(statistic=22.654643209170786, pvalue=7.44240341320733e-105)\n",
      "NED vs POL\n",
      "Ttest_indResult(statistic=61.94693715340812, pvalue=0.0)\n",
      "NED vs Scot\n",
      "Ttest_indResult(statistic=51.42317347956111, pvalue=0.0)\n",
      "NED vs Switz\n",
      "Ttest_indResult(statistic=50.719717374347844, pvalue=0.0)\n"
     ]
    }
   ],
   "source": [
    "print(\"NED vs PORT\")\n",
    "print(stats.ttest_ind(ned_league_rating_df, port_league_rating_df, equal_var=False))\n",
    "print(\"NED vs BEL\")\n",
    "print(stats.ttest_ind(ned_league_rating_df, bel_league_rating_df, equal_var=False))\n",
    "# print(F\"effect size:\",Cohen_d(ned_league_rating_df, bel_league_rating_df))\n",
    "print(\"NED vs POL\")\n",
    "print(stats.ttest_ind(ned_league_rating_df, pol_league_rating_df, equal_var=False))\n",
    "# print(F\"effect size:\",Cohen_d(ned_league_rating_df, pol_league_rating_df))\n",
    "print(\"NED vs Scot\")\n",
    "print(stats.ttest_ind(ned_league_rating_df, scot_league_rating_df, equal_var=False))\n",
    "# print(F\"effect size:\",Cohen_d(ned_league_rating_df, scot_league_rating_df))\n",
    "print(\"NED vs Switz\")\n",
    "print(stats.ttest_ind(ned_league_rating_df, switz_league_rating_df, equal_var=False))\n",
    "# print(F\"effect size:\",Cohen_d(ned_league_rating_df, switz_league_rating_df))"
   ]
  },
  {
   "cell_type": "code",
   "execution_count": 43,
   "metadata": {},
   "outputs": [
    {
     "data": {
      "image/png": "[encoded data removed]",
      "text/plain": [
       "<Figure size 864x288 with 1 Axes>"
      ]
     },
     "metadata": {
      "needs_background": "light"
     },
     "output_type": "display_data"
    }
   ],
   "source": [
    "fig, ax = plt.subplots(figsize=(12, 4))\n",
    "plt.barh(\"Ned_league\" , ned_league_rating_df.mean(), label='netherand')\n",
    "plt.barh(\"Port_league\", port_league_rating_df.mean(), label='portugal')\n",
    "plt.barh(\"Bel_league\" , bel_league_rating_df.mean(), label='belgium')\n",
    "plt.barh(\"Pol_league\" , pol_league_rating_df.mean(), label='poland')\n",
    "plt.barh(\"Scot_league\" , scot_league_rating_df.mean(), label='scotland')\n",
    "plt.barh(\"Switz_league\" , switz_league_rating_df.mean(), label='swtizland')\n",
    "ax.set_title(\"Avg players rating in the League\")\n",
    "\n",
    "plt.show()"
   ]
  },
  {
   "cell_type": "code",
   "execution_count": 44,
   "metadata": {},
   "outputs": [
    {
     "name": "stdout",
     "output_type": "stream",
     "text": [
      "AVG players rating in Ned_league: 67.85464608911256\n",
      "AVG players rating in Port_league: 67.90376154359285\n",
      "AVG players rating in Bel_league: 65.69183660616169\n",
      "AVG players rating in Pol_league: 59.51608087443279\n",
      "AVG players rating in Scot_league: 63.43803624053617\n",
      "AVG players rating in Switz_league: 63.2336793083073\n"
     ]
    }
   ],
   "source": [
    "print(f\"AVG players rating in Ned_league:\",ned_league_rating_df.mean())\n",
    "print(f\"AVG players rating in Port_league:\",port_league_rating_df.mean())\n",
    "print(f\"AVG players rating in Bel_league:\",bel_league_rating_df.mean())\n",
    "print(f\"AVG players rating in Pol_league:\",pol_league_rating_df.mean())\n",
    "print(f\"AVG players rating in Scot_league:\",scot_league_rating_df.mean())\n",
    "print(f\"AVG players rating in Switz_league:\",switz_league_rating_df.mean())"
   ]
  },
  {
   "cell_type": "markdown",
   "metadata": {},
   "source": [
    "# Players avgerage potential in each league\n"
   ]
  },
  {
   "cell_type": "code",
   "execution_count": 45,
   "metadata": {},
   "outputs": [],
   "source": [
    "ned_league_potential = potential_df.loc[potential_df['league']== 'Netherlands Eredivisie']\n",
    "port_league_potential = potential_df.loc[potential_df['league']== 'Portugal Liga ZON Sagres']\n",
    "bel_league_P_potential = potential_df.loc[potential_df['league']== 'Belgium Jupiler League']\n",
    "pol_league_P_potential = potential_df.loc[potential_df['league']== 'Poland Ekstraklasa']\n",
    "scot_league_P_potential = potential_df.loc[potential_df['league']== 'Scotland Premier League']\n",
    "switz_league_P_potential = potential_df.loc[potential_df['league']== 'Switzerland Super League']"
   ]
  },
  {
   "cell_type": "code",
   "execution_count": 46,
   "metadata": {},
   "outputs": [],
   "source": [
    "ned_league_potential_df = ned_league_potential['avg_players_potential']\n",
    "port_league_potential_df = port_league_potential['avg_players_potential']\n",
    "bel_league_P_potential_df = bel_league_P_potential['avg_players_potential']\n",
    "pol_league_P_potential_df  = pol_league_P_potential['avg_players_potential']\n",
    "scot_league_P_potential_df = scot_league_P_potential['avg_players_potential']\n",
    "switz_league_P_potential_df = switz_league_P_potential['avg_players_potential']"
   ]
  },
  {
   "cell_type": "code",
   "execution_count": 47,
   "metadata": {},
   "outputs": [
    {
     "name": "stdout",
     "output_type": "stream",
     "text": [
      "NED vs BEL\n",
      "Ttest_indResult(statistic=28.24840284186084, pvalue=4.4335620380137e-155)\n",
      "effect size: 0.970966565478423\n",
      "NED vs POL\n",
      "Ttest_indResult(statistic=60.031883730786305, pvalue=0.0)\n",
      "effect size: 2.7579779094016406\n",
      "NED vs Scot\n",
      "Ttest_indResult(statistic=52.800734203136734, pvalue=0.0)\n",
      "effect size: 1.647023730961226\n",
      "NED vs Switz\n",
      "Ttest_indResult(statistic=40.6784228188515, pvalue=1.0660381590878225e-287)\n",
      "effect size: 1.379983206207138\n"
     ]
    }
   ],
   "source": [
    "print(\"NED vs BEL\")\n",
    "print(stats.ttest_ind(ned_league_potential_df, bel_league_P_potential_df, equal_var=False))\n",
    "print(f\"effect size: {Cohen_d(ned_league_potential_df, bel_league_P_potential_df)}\")\n",
    "print(\"NED vs POL\")\n",
    "print(stats.ttest_ind(ned_league_potential_df, pol_league_P_potential_df, equal_var=False))\n",
    "print(f\"effect size: {Cohen_d(ned_league_potential_df, pol_league_P_potential_df)}\")\n",
    "print(\"NED vs Scot\")\n",
    "print(stats.ttest_ind(ned_league_potential_df, scot_league_P_potential_df, equal_var=False))\n",
    "print(f\"effect size: {Cohen_d(ned_league_potential_df, scot_league_P_potential_df)}\")\n",
    "print(\"NED vs Switz\")\n",
    "print(stats.ttest_ind(ned_league_potential_df, switz_league_P_potential_df, equal_var=False))\n",
    "print(f\"effect size: {Cohen_d(ned_league_potential_df, switz_league_P_potential_df)}\")"
   ]
  },
  {
   "cell_type": "code",
   "execution_count": 48,
   "metadata": {},
   "outputs": [
    {
     "data": {
      "image/png": "[encoded data removed]",
      "text/plain": [
       "<Figure size 864x288 with 1 Axes>"
      ]
     },
     "metadata": {
      "needs_background": "light"
     },
     "output_type": "display_data"
    }
   ],
   "source": [
    "fig, ax = plt.subplots(figsize=(12, 4))\n",
    "plt.barh(\"Ned_league\" , ned_league_potential_df.mean(), label='netherand')\n",
    "plt.barh(\"Port_league\", port_league_potential_df.mean(), label='portugal')\n",
    "plt.barh(\"Bel_league\" , bel_league_P_potential_df.mean(), label='belgium')\n",
    "plt.barh(\"Pol_league\" , pol_league_P_potential_df.mean(), label='poland')\n",
    "plt.barh(\"Scot_league\" , scot_league_P_potential_df.mean(), label='scotland')\n",
    "plt.barh(\"Switz_league\" , switz_league_P_potential_df.mean(), label='swtizland')\n",
    "ax.set_title(\"Avg players potential in the League\")\n",
    "# ax.legend(['netherand', 'portugal'])\n",
    "plt.show()"
   ]
  },
  {
   "cell_type": "code",
   "execution_count": 50,
   "metadata": {},
   "outputs": [
    {
     "name": "stdout",
     "output_type": "stream",
     "text": [
      "ned_potential: 72.45938103527938\n",
      "port_potential: 71.73388100123572\n",
      "bel_potential: 69.38321738360528\n",
      "pol_potential: 62.362527424933155\n",
      "scot_potential: 67.8478014842775\n",
      "switz_potential: 68.54370554131137\n"
     ]
    }
   ],
   "source": [
    "print(\"ned_potential:\",ned_league_potential_df.mean())\n",
    "print(\"port_potential:\",port_league_potential_df.mean())\n",
    "print(\"bel_potential:\",bel_league_P_potential_df.mean())\n",
    "print(\"pol_potential:\",pol_league_P_potential_df.mean())\n",
    "print(\"scot_potential:\",scot_league_P_potential_df.mean())\n",
    "print(\"switz_potential:\",switz_league_P_potential_df.mean())"
   ]
  },
  {
   "cell_type": "code",
   "execution_count": null,
   "metadata": {},
   "outputs": [],
   "source": []
  }
 ],
 "metadata": {
  "kernelspec": {
   "display_name": "Python [conda env:learn-env] *",
   "language": "python",
   "name": "conda-env-learn-env-py"
  },
  "language_info": {
   "codemirror_mode": {
    "name": "ipython",
    "version": 3
   },
   "file_extension": ".py",
   "mimetype": "text/x-python",
   "name": "python",
   "nbconvert_exporter": "python",
   "pygments_lexer": "ipython3",
   "version": "3.7.0"
  }
 },
 "nbformat": 4,
 "nbformat_minor": 2
}
